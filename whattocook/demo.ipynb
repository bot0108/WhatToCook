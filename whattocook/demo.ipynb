{
 "cells": [
  {
   "attachments": {},
   "cell_type": "markdown",
   "metadata": {},
   "source": [
    "WhatToCook-Find meal ideas"
   ]
  },
  {
   "attachments": {},
   "cell_type": "markdown",
   "metadata": {},
   "source": [
    "What you need to know:\n"
   ]
  },
  {
   "attachments": {},
   "cell_type": "markdown",
   "metadata": {},
   "source": [
    "This program helps you find awesome Chilean recipes, for any occasion, anytime of the year.\n",
    "Includes a function to get a random recipe(simple.py), a function which gives a course specific recipe(courseSpecific.py) a seasonal recipe(seasonal.py) and a combined one(combined.py)\n"
   ]
  },
  {
   "attachments": {},
   "cell_type": "markdown",
   "metadata": {},
   "source": [
    "Elements of the program:"
   ]
  },
  {
   "attachments": {},
   "cell_type": "markdown",
   "metadata": {},
   "source": [
    "|- whattocookpackage\n",
    "    |-whattocook\n",
    "        |-__init__.py\n",
    "        |-cocktail.py\n",
    "        |-combined.py\n",
    "        |-courseSpecific.py\n",
    "        |-pd2.py\n",
    "        |-scraper.py\n",
    "        |-seasonal.py\n",
    "        |-simple.py\n",
    "    |-demo.ipynb\n",
    "    |-LICENSE\n",
    "    |-README.md\n",
    "    |-setup.py\n",
    "    |-WhatToCookBanner"
   ]
  },
  {
   "attachments": {},
   "cell_type": "markdown",
   "metadata": {},
   "source": [
    "Installation:\n",
    "You will need to install the following package(s)."
   ]
  },
  {
   "attachments": {},
   "cell_type": "markdown",
   "metadata": {},
   "source": [
    "reportlab\n",
    "(pip install reportlab)"
   ]
  },
  {
   "attachments": {},
   "cell_type": "markdown",
   "metadata": {},
   "source": [
    "Import statements:"
   ]
  },
  {
   "attachments": {},
   "cell_type": "markdown",
   "metadata": {},
   "source": [
    "import requests\n",
    "import random\n",
    "from bs4 import BeautifulSoup\n",
    "from datetime import datetime\n",
    "from pd2 import pdfer"
   ]
  },
  {
   "attachments": {},
   "cell_type": "markdown",
   "metadata": {},
   "source": [
    "User inputs:\n"
   ]
  },
  {
   "attachments": {},
   "cell_type": "markdown",
   "metadata": {},
   "source": [
    "For some of the functions(combined,courseSpecific) a user input with a course is required."
   ]
  },
  {
   "attachments": {},
   "cell_type": "markdown",
   "metadata": {},
   "source": [
    "For example the input should be the following: Breakfast"
   ]
  },
  {
   "attachments": {},
   "cell_type": "markdown",
   "metadata": {},
   "source": [
    "API refferences:\n"
   ]
  },
  {
   "attachments": {},
   "cell_type": "markdown",
   "metadata": {},
   "source": [
    "Cocktail API : https://cocktails3.p.rapidapi.com/random\n",
    "Month API: http://worldtimeapi.org/api/ip\n"
   ]
  }
 ],
 "metadata": {
  "language_info": {
   "name": "python"
  },
  "orig_nbformat": 4
 },
 "nbformat": 4,
 "nbformat_minor": 2
}
