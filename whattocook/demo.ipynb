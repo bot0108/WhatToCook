{
 "cells": [
  {
   "attachments": {},
   "cell_type": "markdown",
   "metadata": {},
   "source": [
    "WhatToCook-Find meal ideas"
   ]
  },
  {
   "attachments": {},
   "cell_type": "markdown",
   "metadata": {},
   "source": [
    "What you need to know:\n"
   ]
  },
  {
   "attachments": {},
   "cell_type": "markdown",
   "metadata": {},
   "source": [
    "This program helps you find awesome Chilean recipes, for any occasion, anytime of the year.\n",
    "Includes a function to get a random recipe(simple.py), a function which gives a course specific recipe(courseSpecific.py) a seasonal recipe(seasonal.py) and a combined one(combined.py)\n"
   ]
  },
  {
   "attachments": {},
   "cell_type": "markdown",
   "metadata": {},
   "source": [
    "Cocktail function"
   ]
  },
  {
   "cell_type": "code",
   "execution_count": 33,
   "metadata": {},
   "outputs": [
    {
     "data": {
      "text/plain": [
       "('a fantastic margarita',\n",
       " ['2 cups limeade prepared from concentrate ',\n",
       "  '0.5 cup pineapple juice ',\n",
       "  '0.5 cup orange juice ',\n",
       "  '2 fluid ounces tequila ',\n",
       "  '1 fluid ounce orange liqueur '])"
      ]
     },
     "execution_count": 33,
     "metadata": {},
     "output_type": "execute_result"
    }
   ],
   "source": [
    "from whattocook.cocktail import randomCocktail \n",
    "randomCocktail()\n"
   ]
  },
  {
   "attachments": {},
   "cell_type": "markdown",
   "metadata": {},
   "source": [
    "Random recipe"
   ]
  },
  {
   "cell_type": "code",
   "execution_count": 35,
   "metadata": {},
   "outputs": [
    {
     "name": "stdout",
     "output_type": "stream",
     "text": [
      "PDF Saved!\n"
     ]
    }
   ],
   "source": [
    "from whattocook.simple import recipeScraper\n",
    "\n",
    "recipeScraper()"
   ]
  },
  {
   "attachments": {},
   "cell_type": "markdown",
   "metadata": {},
   "source": [
    "Random recipe based on the current month"
   ]
  },
  {
   "cell_type": "code",
   "execution_count": 36,
   "metadata": {},
   "outputs": [
    {
     "name": "stdout",
     "output_type": "stream",
     "text": [
      "PDF Saved!\n"
     ]
    }
   ],
   "source": [
    "from whattocook.seasonal import (month,season)\n",
    "season()"
   ]
  },
  {
   "attachments": {},
   "cell_type": "markdown",
   "metadata": {},
   "source": [
    "Random course specific recipe"
   ]
  },
  {
   "cell_type": "code",
   "execution_count": 38,
   "metadata": {},
   "outputs": [
    {
     "name": "stdout",
     "output_type": "stream",
     "text": [
      "PDF Saved!\n"
     ]
    }
   ],
   "source": [
    "from whattocook.courseSpecific import chileanMenu\n",
    "chileanMenu(\"Snack\")"
   ]
  },
  {
   "attachments": {},
   "cell_type": "markdown",
   "metadata": {},
   "source": [
    "Random seasonal course specific recipe\n"
   ]
  },
  {
   "cell_type": "code",
   "execution_count": 39,
   "metadata": {},
   "outputs": [
    {
     "name": "stdout",
     "output_type": "stream",
     "text": [
      "PDF Saved!\n"
     ]
    }
   ],
   "source": [
    "from whattocook.combined import special\n",
    "special(\"Breakfast\")"
   ]
  }
 ],
 "metadata": {
  "kernelspec": {
   "display_name": "Python 3",
   "language": "python",
   "name": "python3"
  },
  "language_info": {
   "codemirror_mode": {
    "name": "ipython",
    "version": 3
   },
   "file_extension": ".py",
   "mimetype": "text/x-python",
   "name": "python",
   "nbconvert_exporter": "python",
   "pygments_lexer": "ipython3",
   "version": "3.10.11"
  },
  "orig_nbformat": 4
 },
 "nbformat": 4,
 "nbformat_minor": 2
}
